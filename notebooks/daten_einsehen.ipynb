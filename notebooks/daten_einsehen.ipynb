{
 "cells": [
  {
   "cell_type": "code",
   "execution_count": 1,
   "metadata": {},
   "outputs": [],
   "source": [
    "import pandas as pd"
   ]
  },
  {
   "cell_type": "code",
   "execution_count": 2,
   "metadata": {},
   "outputs": [
    {
     "name": "stderr",
     "output_type": "stream",
     "text": [
      "/home/pauline/.local/lib/python3.10/site-packages/IPython/core/interactiveshell.py:3441: DtypeWarning: Columns (18) have mixed types.Specify dtype option on import or set low_memory=False.\n",
      "  exec(code_obj, self.user_global_ns, self.user_ns)\n"
     ]
    }
   ],
   "source": [
    "mig_data = pd.read_csv('../daten/mig_conversations.csv')"
   ]
  },
  {
   "cell_type": "code",
   "execution_count": 3,
   "metadata": {},
   "outputs": [
    {
     "name": "stderr",
     "output_type": "stream",
     "text": [
      "/home/pauline/.local/lib/python3.10/site-packages/IPython/core/interactiveshell.py:3441: DtypeWarning: Columns (6,8,10,11,12,14) have mixed types.Specify dtype option on import or set low_memory=False.\n",
      "  exec(code_obj, self.user_global_ns, self.user_ns)\n"
     ]
    }
   ],
   "source": [
    "authors = pd.read_csv('../daten/postgres_public_delab_tweetauthor.csv')"
   ]
  },
  {
   "cell_type": "code",
   "execution_count": 4,
   "metadata": {},
   "outputs": [
    {
     "data": {
      "text/html": [
       "<div>\n",
       "<style scoped>\n",
       "    .dataframe tbody tr th:only-of-type {\n",
       "        vertical-align: middle;\n",
       "    }\n",
       "\n",
       "    .dataframe tbody tr th {\n",
       "        vertical-align: top;\n",
       "    }\n",
       "\n",
       "    .dataframe thead th {\n",
       "        text-align: right;\n",
       "    }\n",
       "</style>\n",
       "<table border=\"1\" class=\"dataframe\">\n",
       "  <thead>\n",
       "    <tr style=\"text-align: right;\">\n",
       "      <th></th>\n",
       "      <th>#</th>\n",
       "      <th>id</th>\n",
       "      <th>twitter_id</th>\n",
       "      <th>name</th>\n",
       "      <th>screen_name</th>\n",
       "      <th>location</th>\n",
       "      <th>followers_count</th>\n",
       "      <th>has_timeline</th>\n",
       "      <th>is_moderator</th>\n",
       "      <th>platform</th>\n",
       "      <th>follower_downloaded</th>\n",
       "      <th>following_downloaded</th>\n",
       "      <th>is_organisation</th>\n",
       "      <th>climate_author_type</th>\n",
       "      <th>is_climate_author</th>\n",
       "    </tr>\n",
       "  </thead>\n",
       "  <tbody>\n",
       "    <tr>\n",
       "      <th>17274</th>\n",
       "      <td>17275</td>\n",
       "      <td>33173</td>\n",
       "      <td>1059395748289232896</td>\n",
       "      <td>Friedrich Merz</td>\n",
       "      <td>_FriedrichMerz</td>\n",
       "      <td>Deutschland</td>\n",
       "      <td>182188</td>\n",
       "      <td>True</td>\n",
       "      <td>False</td>\n",
       "      <td>twitter</td>\n",
       "      <td>False</td>\n",
       "      <td>False</td>\n",
       "      <td>False</td>\n",
       "      <td>none</td>\n",
       "      <td>False</td>\n",
       "    </tr>\n",
       "  </tbody>\n",
       "</table>\n",
       "</div>"
      ],
      "text/plain": [
       "          #     id          twitter_id            name     screen_name  \\\n",
       "17274 17275  33173 1059395748289232896  Friedrich Merz  _FriedrichMerz   \n",
       "\n",
       "          location followers_count has_timeline is_moderator platform  \\\n",
       "17274  Deutschland          182188         True        False  twitter   \n",
       "\n",
       "      follower_downloaded following_downloaded is_organisation  \\\n",
       "17274               False                False           False   \n",
       "\n",
       "      climate_author_type is_climate_author  \n",
       "17274                none             False  "
      ]
     },
     "execution_count": 4,
     "metadata": {},
     "output_type": "execute_result"
    }
   ],
   "source": [
    "pd.set_option('display.float_format', '{:.0f}'.format)\n",
    "lindner = authors[authors['screen_name']=='_FriedrichMerz']\n",
    "lindner\n",
    "#springer:\n",
    "#welt: 8720562\n",
    "#bild: 9204502\n",
    "#bi de: 3344215161\n",
    "#ulf poschard: 1949194382\n",
    "#julian reichelt:19069018\n",
    "\n",
    "#cdu/csu\n",
    "#friedrich merz:1059395748289232896"
   ]
  },
  {
   "cell_type": "code",
   "execution_count": 5,
   "metadata": {},
   "outputs": [
    {
     "data": {
      "text/html": [
       "<div>\n",
       "<style scoped>\n",
       "    .dataframe tbody tr th:only-of-type {\n",
       "        vertical-align: middle;\n",
       "    }\n",
       "\n",
       "    .dataframe tbody tr th {\n",
       "        vertical-align: top;\n",
       "    }\n",
       "\n",
       "    .dataframe thead th {\n",
       "        text-align: right;\n",
       "    }\n",
       "</style>\n",
       "<table border=\"1\" class=\"dataframe\">\n",
       "  <thead>\n",
       "    <tr style=\"text-align: right;\">\n",
       "      <th></th>\n",
       "      <th>Unnamed: 0</th>\n",
       "      <th>#</th>\n",
       "      <th>id</th>\n",
       "      <th>twitter_id</th>\n",
       "      <th>text</th>\n",
       "      <th>author_id</th>\n",
       "      <th>in_reply_to_status_id</th>\n",
       "      <th>in_reply_to_user_id</th>\n",
       "      <th>created_at</th>\n",
       "      <th>sentiment_value</th>\n",
       "      <th>...</th>\n",
       "      <th>d_comment</th>\n",
       "      <th>platform</th>\n",
       "      <th>publish</th>\n",
       "      <th>tn_parent_type</th>\n",
       "      <th>reddit_id</th>\n",
       "      <th>tn_original_parent</th>\n",
       "      <th>is_toxic</th>\n",
       "      <th>toxic_value</th>\n",
       "      <th>was_query_candidate</th>\n",
       "      <th>original_url</th>\n",
       "    </tr>\n",
       "  </thead>\n",
       "  <tbody>\n",
       "  </tbody>\n",
       "</table>\n",
       "<p>0 rows × 28 columns</p>\n",
       "</div>"
      ],
      "text/plain": [
       "Empty DataFrame\n",
       "Columns: [Unnamed: 0, #, id, twitter_id, text, author_id, in_reply_to_status_id, in_reply_to_user_id, created_at, sentiment_value, sentiment, conversation_id, language, simple_request_id, tn_parent_id, topic_id, tw_author_id, banned_at, d_comment, platform, publish, tn_parent_type, reddit_id, tn_original_parent, is_toxic, toxic_value, was_query_candidate, original_url]\n",
       "Index: []\n",
       "\n",
       "[0 rows x 28 columns]"
      ]
     },
     "execution_count": 5,
     "metadata": {},
     "output_type": "execute_result"
    }
   ],
   "source": [
    "view = mig_data[mig_data['author_id']==1059395748289232896]\n",
    "view"
   ]
  },
  {
   "cell_type": "code",
   "execution_count": null,
   "metadata": {},
   "outputs": [],
   "source": []
  }
 ],
 "metadata": {
  "kernelspec": {
   "display_name": "Python 3",
   "language": "python",
   "name": "python3"
  },
  "language_info": {
   "codemirror_mode": {
    "name": "ipython",
    "version": 3
   },
   "file_extension": ".py",
   "mimetype": "text/x-python",
   "name": "python",
   "nbconvert_exporter": "python",
   "pygments_lexer": "ipython3",
   "version": "3.10.12"
  }
 },
 "nbformat": 4,
 "nbformat_minor": 2
}
