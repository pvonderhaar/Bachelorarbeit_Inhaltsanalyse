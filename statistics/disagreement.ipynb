{
 "cells": [
  {
   "cell_type": "markdown",
   "metadata": {},
   "source": [
    "In diesem notebook wurde gemessen, in welchen Dialogen Uneinigkeit herrscht. Die Posts aus diesen Dialogen wurden mit 1 gelabelt, die ohne Uneinigkeit mit 0.\n"
   ]
  },
  {
   "cell_type": "code",
   "execution_count": null,
   "metadata": {},
   "outputs": [],
   "source": [
    "import pandas as pd"
   ]
  },
  {
   "cell_type": "code",
   "execution_count": null,
   "metadata": {},
   "outputs": [],
   "source": [
    "data_full = pd.read_excel('data_full_clean.xlsx')\n",
    "data_full\n"
   ]
  },
  {
   "cell_type": "code",
   "execution_count": null,
   "metadata": {},
   "outputs": [],
   "source": [
    "def disagreement(data):\n",
    "    data['disagreement'] = None\n",
    "    data_on_topic = data[data['var_opinion']>-9]\n",
    "    data_on_topic = data_on_topic[data_on_topic['var_opinion']!=0]\n",
    "    grouped_df = data_on_topic.groupby(['4: tree_id', '11: path'])\n",
    "    for index, group in grouped_df:\n",
    "        authors = group.groupby(['13: author_flow'])\n",
    "        path = group['11: path'].tolist()[0]\n",
    "        id = group['4: tree_id'].tolist()[0]\n",
    "        if authors.ngroups > 2:\n",
    "            group = group[group['6: parent_id'].notna()]\n",
    "            authors = group.groupby(['13: author_flow'])\n",
    "        op_values = {}\n",
    "        for i, author in authors:\n",
    "            op_value = sum(author['var_opinion'].tolist())/len(author)\n",
    "            op_values[i[0]] = op_value\n",
    "        if len(op_values)==2:\n",
    "            val_a = list(op_values.values())[0]\n",
    "            val_b = list(op_values.values())[1]\n",
    "            if (val_a<0 and val_b<0) or (val_a>0 and val_b>0):\n",
    "                disagree = 0\n",
    "            if (val_a<0 and val_b>0) or (val_a>0 and val_b<0):\n",
    "                disagree = 1 \n",
    "        else:\n",
    "            continue\n",
    "        data.loc[(data['4: tree_id'] == id) & (data['11: path'] == path), 'disagreement'] = disagree\n",
    "    return data\n",
    "    \n",
    "        \n",
    "\n",
    "\n",
    "dis_df = disagreement(data_full)"
   ]
  },
  {
   "cell_type": "code",
   "execution_count": null,
   "metadata": {},
   "outputs": [],
   "source": [
    "dis_df.head(20)"
   ]
  },
  {
   "cell_type": "code",
   "execution_count": null,
   "metadata": {},
   "outputs": [],
   "source": [
    "df = data_full[data_full['4: tree_id']==1652564083688848896]\n",
    "df = df[df['11: path']==7]\n",
    "df\n"
   ]
  },
  {
   "cell_type": "code",
   "execution_count": null,
   "metadata": {},
   "outputs": [],
   "source": [
    "dis_df.to_excel('data_disagreement.xlsx')"
   ]
  }
 ],
 "metadata": {
  "kernelspec": {
   "display_name": "Python 3",
   "language": "python",
   "name": "python3"
  },
  "language_info": {
   "codemirror_mode": {
    "name": "ipython",
    "version": 3
   },
   "file_extension": ".py",
   "mimetype": "text/x-python",
   "name": "python",
   "nbconvert_exporter": "python",
   "pygments_lexer": "ipython3",
   "version": "3.9.undefined"
  }
 },
 "nbformat": 4,
 "nbformat_minor": 2
}
