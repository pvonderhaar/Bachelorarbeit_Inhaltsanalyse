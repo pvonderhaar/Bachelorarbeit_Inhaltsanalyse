{
 "cells": [
  {
   "cell_type": "markdown",
   "metadata": {},
   "source": [
    "In diesem notebook wurden die Kategorien aus der Inhaltsanalyse mti dem ursprünglichen Datensatz zusammengefügt, indem die Texte miteinander verglichen wurden. Über MaxQDA gibt es nicht die Möglichkeit, die Excel-Tabellen zusammenzufügen.\n",
    "\n",
    "Außerdem wurden die numerischen Labels zu den Zeilen hinzugefügt, wie in der Arbeit beschrieben."
   ]
  },
  {
   "cell_type": "code",
   "execution_count": null,
   "metadata": {},
   "outputs": [],
   "source": [
    "import pandas as pd"
   ]
  },
  {
   "cell_type": "code",
   "execution_count": null,
   "metadata": {},
   "outputs": [],
   "source": [
    "labels = pd.read_excel('../daten/Codierte Segmente_runde2.xlsx')\n",
    "labels"
   ]
  },
  {
   "cell_type": "code",
   "execution_count": null,
   "metadata": {},
   "outputs": [],
   "source": [
    "data = pd.read_excel('../daten/Runde_2_clean_new.xlsx')\n",
    "data"
   ]
  },
  {
   "cell_type": "code",
   "execution_count": null,
   "metadata": {},
   "outputs": [],
   "source": [
    "data['label_tone'] = None\n",
    "data['label_opinion'] = None"
   ]
  },
  {
   "cell_type": "code",
   "execution_count": null,
   "metadata": {},
   "outputs": [],
   "source": [
    "# Funktion, die allen Tweets ihren labels hinzufügt\n",
    "def match_label_to_tweet(labels, data):\n",
    "    for i, row in data.iterrows():\n",
    "        text = row['9: text']\n",
    "        check = labels['Segment'].isin([text])\n",
    "        labels_text = labels[labels['Segment'] == text]\n",
    "        if not labels_text.empty:\n",
    "            for i1, row1 in labels_text.iterrows():\n",
    "                if row1['Code'].startswith('Ton'):\n",
    "                    data.at[i, 'label_tone'] = row1['Code']\n",
    "                if row1['Code'].startswith('Meinung'):\n",
    "                    data.at[i, 'label_opinion'] = row1['Code']\n",
    "    return data        \n",
    "\n",
    "data_and_labels = match_label_to_tweet(labels, data)"
   ]
  },
  {
   "cell_type": "code",
   "execution_count": null,
   "metadata": {},
   "outputs": [],
   "source": [
    "data_and_labels.to_excel('../../daten/Labeled_data_full.xlsx')"
   ]
  },
  {
   "cell_type": "code",
   "execution_count": null,
   "metadata": {},
   "outputs": [],
   "source": [
    "data_no_duplicates = data_and_labels.drop_duplicates(subset='5: post_id')"
   ]
  },
  {
   "cell_type": "code",
   "execution_count": null,
   "metadata": {},
   "outputs": [],
   "source": [
    "data_no_duplicates.dropna(subset='label_opinion')"
   ]
  },
  {
   "cell_type": "code",
   "execution_count": null,
   "metadata": {},
   "outputs": [],
   "source": [
    "data_no_duplicates.to_excel('../../daten/Just_labeled.xlsx')"
   ]
  },
  {
   "cell_type": "code",
   "execution_count": null,
   "metadata": {},
   "outputs": [],
   "source": [
    "# Wandelt Labels in numerische Werte um, je nach \"Stärke\" \n",
    "def var_for_labels(data):\n",
    "    data['var_tone']=-99\n",
    "    data['var_opinion']=-99\n",
    "    for i, row in data_and_labels.iterrows():        \n",
    "        if row['label_tone'] == 'Ton ggü. Anderen\\postiv\\Höflich/respektvoll':\n",
    "            data.at[i, 'var_tone'] = 1\n",
    "        if row['label_tone'] == 'Ton ggü. Anderen\\postiv\\humorvoll':\n",
    "            data.at[i, 'var_tone'] = 2\n",
    "        if row['label_tone'] == 'Ton ggü. Anderen\\postiv\\lobend':\n",
    "            data.at[i, 'var_tone'] = 3\n",
    "        if row['label_tone'] == 'Ton ggü. Anderen\\\\neagtiv\\\\resigniert':\n",
    "            data.at[i, 'var_tone'] = -1\n",
    "        if row['label_tone'] == 'Ton ggü. Anderen\\\\neagtiv\\in Rage':\n",
    "            data.at[i, 'var_tone'] = -2\n",
    "        if row['label_tone'] == 'Ton ggü. Anderen\\\\neagtiv\\sarkastisch':\n",
    "            data.at[i, 'var_tone'] = -3\n",
    "        if row['label_tone'] == 'Ton ggü. Anderen\\\\neagtiv\\deligitimierend':\n",
    "            data.at[i, 'var_tone'] = -4\n",
    "        if row['label_tone'] == 'Ton ggü. Anderen\\\\neagtiv\\\\beleidigend':\n",
    "            data.at[i, 'var_tone'] = -5\n",
    "        if row['label_opinion'] == 'Meinung\\on Topic, nicht erkennbar':\n",
    "            data.at[i, 'var_opinion'] = 0\n",
    "        if row['label_opinion'] == 'Meinung\\\\nicht on Topic':\n",
    "            data.at[i, 'var_opinion'] = -10\n",
    "        if row['label_opinion'] == 'Meinung\\Pro-Migration\\Wirtschaftlich':\n",
    "            data.at[i, 'var_opinion'] = 1\n",
    "        if row['label_opinion'] == 'Meinung\\Pro-Migration\\Internationalistisch':\n",
    "            data.at[i, 'var_opinion'] = 2\n",
    "        if row['label_opinion'] == 'Meinung\\Pro-Migration\\Rassismuskritisch':\n",
    "            data.at[i, 'var_opinion'] = 3\n",
    "        if row['label_opinion'] == 'Meinung\\Pro-Migration\\Humanitär':\n",
    "            data.at[i, 'var_opinion'] = 4\n",
    "        if row['label_opinion'] == 'Meinung\\Kontra-Migration\\\\Nationalzentriert':\n",
    "            data.at[i, 'var_opinion'] = -1\n",
    "        if row['label_opinion'] == 'Meinung\\Kontra-Migration\\Anti-Wokeness':\n",
    "            data.at[i, 'var_opinion'] = -2\n",
    "        if row['label_opinion'] == 'Meinung\\Kontra-Migration\\Rassistisch/Vorurteilsbehaftet':\n",
    "            data.at[i, 'var_opinion'] = -3\n",
    "        \n",
    "        \n",
    "        \n",
    "    return data        \n",
    "\n",
    "data_var = var_for_labels(data_and_labels)\n",
    "data_var.head(20)\n"
   ]
  },
  {
   "cell_type": "code",
   "execution_count": null,
   "metadata": {},
   "outputs": [],
   "source": [
    "data_var.to_excel('../daten/Labeled_data_numbers.xlsx')"
   ]
  },
  {
   "cell_type": "code",
   "execution_count": null,
   "metadata": {},
   "outputs": [],
   "source": [
    "data_var[data_var['var_opinion'] == -99]"
   ]
  },
  {
   "cell_type": "code",
   "execution_count": null,
   "metadata": {},
   "outputs": [],
   "source": [
    "data_var_duplicates = data_var.drop_duplicates(subset='5: post_id')\n",
    "data_var_duplicates = data_var_duplicates.dropna(subset='label_opinion')\n",
    "data_var_duplicates = data_var_duplicates.dropna(subset='label_tone')\n",
    "data_var_duplicates.to_excel('../../daten/Just_labeled_numbers.xlsx')"
   ]
  }
 ],
 "metadata": {
  "kernelspec": {
   "display_name": "Python 3",
   "language": "python",
   "name": "python3"
  },
  "language_info": {
   "codemirror_mode": {
    "name": "ipython",
    "version": 3
   },
   "file_extension": ".py",
   "mimetype": "text/x-python",
   "name": "python",
   "nbconvert_exporter": "python",
   "pygments_lexer": "ipython3",
   "version": "3.9.undefined"
  }
 },
 "nbformat": 4,
 "nbformat_minor": 2
}
