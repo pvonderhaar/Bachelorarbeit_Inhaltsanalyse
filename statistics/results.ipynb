{
 "cells": [
  {
   "cell_type": "markdown",
   "metadata": {},
   "source": [
    "In diesem notebook wurde ein Chi-Quadrat-Test zum Zusammenhang zwischen Uneinigkeit und Ton berechnet. Außerdem werden die längeren Konversationen, in denen Uneinigkeit herrscht, geplottet."
   ]
  },
  {
   "cell_type": "code",
   "execution_count": null,
   "metadata": {},
   "outputs": [],
   "source": [
    "import pandas as pd\n",
    "from matplotlib import pyplot as plt\n",
    "from scipy import stats\n",
    "import math"
   ]
  },
  {
   "cell_type": "code",
   "execution_count": null,
   "metadata": {},
   "outputs": [],
   "source": [
    "data = pd.read_excel('../daten/data_disagreement.xlsx')\n",
    "len(data)"
   ]
  },
  {
   "cell_type": "code",
   "execution_count": null,
   "metadata": {},
   "outputs": [],
   "source": [
    "data_short = data.drop_duplicates(subset='5: post_id')\n",
    "len(data_short)"
   ]
  },
  {
   "cell_type": "code",
   "execution_count": null,
   "metadata": {},
   "outputs": [],
   "source": [
    "data_short = data_short[data_short['var_tone']!=-99]\n",
    "data_short = data_short[data_short['disagreement'].notna()]\n",
    "len(data_short)"
   ]
  },
  {
   "cell_type": "code",
   "execution_count": null,
   "metadata": {},
   "outputs": [],
   "source": [
    "crosstab_long = pd.crosstab(index=data_short['disagreement'], columns=data_short['var_tone'])\n",
    "crosstab_long"
   ]
  },
  {
   "cell_type": "code",
   "execution_count": null,
   "metadata": {},
   "outputs": [],
   "source": [
    "stats.chi2_contingency(crosstab_long)"
   ]
  },
  {
   "cell_type": "code",
   "execution_count": null,
   "metadata": {},
   "outputs": [],
   "source": [
    "math.sqrt(27.49617604650556/171)"
   ]
  },
  {
   "cell_type": "code",
   "execution_count": null,
   "metadata": {},
   "outputs": [],
   "source": [
    "data_short['dich_tone'] = data_short['var_tone'].apply(lambda x: -1 if x < 0 else 1)\n"
   ]
  },
  {
   "cell_type": "code",
   "execution_count": null,
   "metadata": {},
   "outputs": [],
   "source": [
    "crosstab = pd.crosstab(index=data_short['disagreement'], columns=data_short['dich_tone'])\n",
    "crosstab"
   ]
  },
  {
   "cell_type": "code",
   "execution_count": null,
   "metadata": {},
   "outputs": [],
   "source": [
    "stats.chi2_contingency(crosstab)"
   ]
  },
  {
   "cell_type": "code",
   "execution_count": null,
   "metadata": {},
   "outputs": [],
   "source": [
    "conditional_prob = len(data_short[(data_short['dich_tone'] == 1) & (data_short['disagreement'] == 1)]) / len(data_short[data_short['disagreement'] == 1])\n",
    "conditional_prob"
   ]
  },
  {
   "cell_type": "code",
   "execution_count": null,
   "metadata": {},
   "outputs": [],
   "source": [
    "crosstab = pd.crosstab(index=data_short['disagreement'], columns=data_short['dich_tone'], margins=True, \n",
    "                       margins_name='Gesamt', rownames=['Disagreement (Nein/Ja)'], colnames=['Tonfall (negativ/positiv)'])\n",
    "crosstab.to_clipboard(excel=True)"
   ]
  },
  {
   "cell_type": "code",
   "execution_count": null,
   "metadata": {},
   "outputs": [],
   "source": [
    "data_short.groupby(['4: tree_id', '11: path']).ngroups"
   ]
  },
  {
   "cell_type": "code",
   "execution_count": null,
   "metadata": {},
   "outputs": [],
   "source": [
    "data.groupby(['4: tree_id', '11: path']).ngroups"
   ]
  },
  {
   "cell_type": "code",
   "execution_count": null,
   "metadata": {},
   "outputs": [],
   "source": [
    "dis_df = data_short[data_short['disagreement']==1]\n",
    "dis_df.groupby(['4: tree_id', '11: path']).ngroups"
   ]
  },
  {
   "cell_type": "code",
   "execution_count": null,
   "metadata": {},
   "outputs": [],
   "source": [
    "n_dis_df = data_short[data_short['disagreement']==1]\n",
    "n_dis_df.groupby(['4: tree_id', '11: path']).ngroups"
   ]
  },
  {
   "cell_type": "code",
   "execution_count": null,
   "metadata": {},
   "outputs": [],
   "source": [
    "def plot_tone(contrary):\n",
    "    grouped_df = contrary.groupby(['4: tree_id', '11: path'])\n",
    "    fig, axes = plt.subplots(nrows=2, ncols=4, figsize=(15, 8))\n",
    "    fig. suptitle('Verlauf des Tonfalls gegnüber der Anderen Person in Zwiegeprächen,\\n in denen die Gesprächsteilnehmenden unterschiedliche Meinungen haben', fontsize=18)\n",
    "    y_min, y_max = -5, 3\n",
    "    disagree = pd.DataFrame(columns=contrary.columns)\n",
    "    for i, group in grouped_df:\n",
    "        if len(group)>5:\n",
    "            disagree= pd.concat([disagree, group])\n",
    "    disagree = disagree.groupby(['4: tree_id', '11: path'])\n",
    "    print(disagree.ngroups)\n",
    "    for (name, group), ax in zip(disagree, axes.flatten()):  \n",
    "        ax.plot(group['var_tone'])\n",
    "        ax.axhline(y=0, color='red', linestyle='--', linewidth=0.5)\n",
    "    axes[1, 3].axis('off')\n",
    "    for ax in axes[:, 0:].flatten():\n",
    "        ax.set_ylim(bottom=-5.5, top=3.5)\n",
    "        ax.set_xticklabels([])\n",
    "        ax.set_xticks([])\n",
    "    for ax in axes[:, 1:].flatten():\n",
    "        ax.set_yticklabels([])\n",
    "\n",
    "    text = \"3= lobend \\\n",
    "        2= humorvoll \\\n",
    "        1= höflich/respektvoll \\\n",
    "        \\n-1=resigniert\\\n",
    "        -2=in Rage \\\n",
    "        -3=sarkastisch \\\n",
    "        -4=deligitimierend \\\n",
    "        -5=beleidigend\"\n",
    "    \n",
    "    fig.text(0.01, 0.03, text, ha='left', va='bottom', fontsize=12)\n",
    "    plt.tight_layout(rect=[0, 0.1, 1, 0.98])   \n",
    "    plt.show()\n",
    "plot_tone(n_dis_df)"
   ]
  },
  {
   "cell_type": "code",
   "execution_count": null,
   "metadata": {},
   "outputs": [],
   "source": [
    "grouped_df = dis_df.groupby(['4: tree_id', '11: path'])\n",
    "disagree = pd.DataFrame(columns=dis_df.columns)\n",
    "for i, group in grouped_df:\n",
    "    if len(group)>5:\n",
    "        disagree= pd.concat([disagree, group])\n",
    "disagree.to_excel('disagree_long.xlsx')"
   ]
  },
  {
   "cell_type": "code",
   "execution_count": null,
   "metadata": {},
   "outputs": [],
   "source": [
    "grouped_df = n_dis_df.groupby(['4: tree_id', '11: path'])\n",
    "disagree = pd.DataFrame(columns=n_dis_df.columns)\n",
    "for i, group in grouped_df:\n",
    "    if len(group)>4:\n",
    "        disagree= pd.concat([disagree, group])\n",
    "disagree.to_excel('no_disagree_long.xlsx')"
   ]
  },
  {
   "cell_type": "code",
   "execution_count": null,
   "metadata": {},
   "outputs": [],
   "source": []
  }
 ],
 "metadata": {
  "kernelspec": {
   "display_name": "Python 3",
   "language": "python",
   "name": "python3"
  },
  "language_info": {
   "codemirror_mode": {
    "name": "ipython",
    "version": 3
   },
   "file_extension": ".py",
   "mimetype": "text/x-python",
   "name": "python",
   "nbconvert_exporter": "python",
   "pygments_lexer": "ipython3",
   "version": "3.9.13"
  }
 },
 "nbformat": 4,
 "nbformat_minor": 2
}
